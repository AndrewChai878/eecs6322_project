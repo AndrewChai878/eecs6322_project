{
 "cells": [
  {
   "cell_type": "code",
   "execution_count": 3,
   "metadata": {},
   "outputs": [],
   "source": [
    "import numpy as np"
   ]
  },
  {
   "cell_type": "code",
   "execution_count": 4,
   "metadata": {},
   "outputs": [
    {
     "data": {
      "text/plain": [
       "array([[1.],\n",
       "       [2.]])"
      ]
     },
     "execution_count": 4,
     "metadata": {},
     "output_type": "execute_result"
    }
   ],
   "source": [
    "a = np.ones((2,1))\n",
    "a[1] = 2\n",
    "a"
   ]
  },
  {
   "cell_type": "code",
   "execution_count": 5,
   "metadata": {},
   "outputs": [
    {
     "data": {
      "text/plain": [
       "array([[2.],\n",
       "       [2.],\n",
       "       [2.]])"
      ]
     },
     "execution_count": 5,
     "metadata": {},
     "output_type": "execute_result"
    }
   ],
   "source": [
    "a2 = np.ones((3,1)) *2\n",
    "a2"
   ]
  },
  {
   "cell_type": "code",
   "execution_count": 6,
   "metadata": {},
   "outputs": [
    {
     "data": {
      "text/plain": [
       "array([1., 2., 3., 4.])"
      ]
     },
     "execution_count": 6,
     "metadata": {},
     "output_type": "execute_result"
    }
   ],
   "source": [
    "b = np.ones(4)\n",
    "b[1] = 2\n",
    "b[2] = 3\n",
    "b[3] = 4\n",
    "b"
   ]
  },
  {
   "cell_type": "code",
   "execution_count": 7,
   "metadata": {},
   "outputs": [
    {
     "data": {
      "text/plain": [
       "array([[1., 2., 3., 4.],\n",
       "       [2., 4., 6., 8.]])"
      ]
     },
     "execution_count": 7,
     "metadata": {},
     "output_type": "execute_result"
    }
   ],
   "source": [
    "c = a*b\n",
    "d = a2*b\n",
    "c"
   ]
  },
  {
   "cell_type": "code",
   "execution_count": 8,
   "metadata": {},
   "outputs": [
    {
     "data": {
      "text/plain": [
       "array([[-1.86971839, -1.55236281,  3.88931846,  6.69381908, -8.3680899 ,\n",
       "         1.34960578, -6.43906814],\n",
       "       [-1.86971839, -1.55236281,  3.88931846,  6.69381908, -8.3680899 ,\n",
       "         1.34960578, -6.43906814],\n",
       "       [-1.86971839, -1.55236281,  3.88931846,  6.69381908, -8.3680899 ,\n",
       "         1.34960578, -6.43906814]])"
      ]
     },
     "execution_count": 8,
     "metadata": {},
     "output_type": "execute_result"
    }
   ],
   "source": [
    "e = np.random.uniform((-2/np.sqrt(4)), (2/np.sqrt(4)), 4* 7)\n",
    "e = np.reshape(e, (4, 7))\n",
    "np.matmul(d, e)"
   ]
  },
  {
   "cell_type": "code",
   "execution_count": 9,
   "metadata": {},
   "outputs": [
    {
     "data": {
      "text/plain": [
       "array([[2., 4., 6., 8.],\n",
       "       [2., 4., 6., 8.],\n",
       "       [2., 4., 6., 8.]])"
      ]
     },
     "execution_count": 9,
     "metadata": {},
     "output_type": "execute_result"
    }
   ],
   "source": [
    "d"
   ]
  },
  {
   "cell_type": "markdown",
   "metadata": {},
   "source": [
    "Figure out how to merge"
   ]
  },
  {
   "cell_type": "code",
   "execution_count": 10,
   "metadata": {},
   "outputs": [
    {
     "data": {
      "text/plain": [
       "array([[ 2.,  4.,  6.,  8.,  2.,  4.,  6.,  8.,  2.,  4.,  6.,  8.],\n",
       "       [ 4.,  8., 12., 16.,  4.,  8., 12., 16.,  4.,  8., 12., 16.],\n",
       "       [ 6., 12., 18., 24.,  6., 12., 18., 24.,  6., 12., 18., 24.],\n",
       "       [ 8., 16., 24., 32.,  8., 16., 24., 32.,  8., 16., 24., 32.],\n",
       "       [ 4.,  8., 12., 16.,  4.,  8., 12., 16.,  4.,  8., 12., 16.],\n",
       "       [ 8., 16., 24., 32.,  8., 16., 24., 32.,  8., 16., 24., 32.],\n",
       "       [12., 24., 36., 48., 12., 24., 36., 48., 12., 24., 36., 48.],\n",
       "       [16., 32., 48., 64., 16., 32., 48., 64., 16., 32., 48., 64.]])"
      ]
     },
     "execution_count": 10,
     "metadata": {},
     "output_type": "execute_result"
    }
   ],
   "source": [
    "#aint it\n",
    "np.outer(c,d)"
   ]
  },
  {
   "cell_type": "code",
   "execution_count": 11,
   "metadata": {},
   "outputs": [
    {
     "data": {
      "text/plain": [
       "array([[[ 2.,  2.,  2.],\n",
       "        [ 4.,  4.,  4.]],\n",
       "\n",
       "       [[ 8.,  8.,  8.],\n",
       "        [16., 16., 16.]],\n",
       "\n",
       "       [[18., 18., 18.],\n",
       "        [36., 36., 36.]],\n",
       "\n",
       "       [[32., 32., 32.],\n",
       "        [64., 64., 64.]]])"
      ]
     },
     "execution_count": 11,
     "metadata": {},
     "output_type": "execute_result"
    }
   ],
   "source": [
    "#I think this is right?\n",
    "res = np.einsum(\"ik,jk->kij\",c,d)\n",
    "res"
   ]
  },
  {
   "cell_type": "code",
   "execution_count": 12,
   "metadata": {},
   "outputs": [
    {
     "data": {
      "text/plain": [
       "(4, 2, 3)"
      ]
     },
     "execution_count": 12,
     "metadata": {},
     "output_type": "execute_result"
    }
   ],
   "source": [
    "np.shape(res)"
   ]
  },
  {
   "cell_type": "code",
   "execution_count": 13,
   "metadata": {},
   "outputs": [],
   "source": [
    "import torch\n",
    "from siren import Sine #pip install siren-torch"
   ]
  },
  {
   "cell_type": "code",
   "execution_count": 18,
   "metadata": {},
   "outputs": [],
   "source": [
    "class coordx_net(torch.nn.Module):\n",
    "    def __init__(self):\n",
    "        super(coordx_net, self).__init__()\n",
    "        self.x_first = torch.nn.Linear(1,16)\n",
    "        self.y_first = torch.nn.Linear(1,16)\n",
    "        self.premerge_parallels = torch.nn.Sequential(\n",
    "            Sine(),\n",
    "            torch.nn.Linear(16,16),\n",
    "            Sine(),\n",
    "            torch.nn.Linear(16,16),\n",
    "            Sine()\n",
    "        )\n",
    "        \n",
    "        self.postmerge = torch.nn.Sequential(\n",
    "            torch.nn.Linear(16,32),\n",
    "            Sine(),\n",
    "            torch.nn.Linear(32,3),\n",
    "            torch.nn.Sigmoid()\n",
    "        )\n",
    "    \n",
    "    def merge(self,x,y):\n",
    "        return torch.einsum(\"ik,jk->ijk\",x,y)\n",
    "\n",
    "    def forward(self, x, y):\n",
    "        x1 = self.x_first(x)\n",
    "        y1 = self.y_first(y)\n",
    "        x2 = self.premerge_parallels(x1)\n",
    "        y2 = self.premerge_parallels(y1)\n",
    "        merged = self.merge(x2,y2)\n",
    "        print(merged.shape)\n",
    "        res = self.postmerge(merged)\n",
    "        print(res.shape)\n",
    "        return res\n",
    "    "
   ]
  },
  {
   "cell_type": "code",
   "execution_count": 19,
   "metadata": {},
   "outputs": [
    {
     "name": "stdout",
     "output_type": "stream",
     "text": [
      "x tensor([[1.],\n",
      "        [1.]])\n",
      "sine tensor([[0.8415],\n",
      "        [0.8415]])\n",
      "y tensor([[2.],\n",
      "        [2.],\n",
      "        [2.]])\n",
      "torch.Size([2, 3, 32])\n",
      "torch.Size([2, 3, 3])\n"
     ]
    },
    {
     "data": {
      "text/plain": [
       "tensor([[[0.4964, 0.4576, 0.4647],\n",
       "         [0.4964, 0.4576, 0.4647],\n",
       "         [0.4964, 0.4576, 0.4647]],\n",
       "\n",
       "        [[0.4964, 0.4576, 0.4647],\n",
       "         [0.4964, 0.4576, 0.4647],\n",
       "         [0.4964, 0.4576, 0.4647]]], grad_fn=<SigmoidBackward0>)"
      ]
     },
     "execution_count": 19,
     "metadata": {},
     "output_type": "execute_result"
    }
   ],
   "source": [
    "net = coordx_net()\n",
    "x = torch.ones((2,1)) * 1\n",
    "print(\"x\", x)\n",
    "print(\"sine\", Sine()(x))\n",
    "y = torch.ones((3,1)) * 2\n",
    "print( \"y\", y)\n",
    "merged = net(x, y)\n",
    "merged"
   ]
  },
  {
   "cell_type": "markdown",
   "metadata": {},
   "source": [
    "# Try to add R"
   ]
  },
  {
   "cell_type": "code",
   "execution_count": 103,
   "metadata": {},
   "outputs": [],
   "source": [
    "class coordx_net(torch.nn.Module):\n",
    "    def __init__(self, r):\n",
    "        super().__init__()\n",
    "        self.R = r\n",
    "        hidden = 16\n",
    "        print(f\"R: {r}, Hidden Layers: {hidden}\")\n",
    "        premerge_hidden = 16 * self.R\n",
    "\n",
    "        self.x_first = torch.nn.Linear(1, premerge_hidden)\n",
    "        self.y_first = torch.nn.Linear(1, premerge_hidden)\n",
    "        self.premerge_parallels = torch.nn.Sequential(\n",
    "            Sine(),\n",
    "            torch.nn.Linear(premerge_hidden, premerge_hidden),\n",
    "            Sine(),\n",
    "            torch.nn.Linear(premerge_hidden, premerge_hidden),\n",
    "            Sine()\n",
    "        )\n",
    "        \n",
    "        self.postmerge = torch.nn.Sequential(\n",
    "            torch.nn.Linear(hidden, hidden),\n",
    "            Sine(),\n",
    "            torch.nn.Linear(hidden, 3),\n",
    "            torch.nn.Sigmoid()\n",
    "        )\n",
    "    \n",
    "    def merge(self,x,y):\n",
    "        x3 = torch.einsum(\"ijk->ik\", x)\n",
    "        y3 = torch.einsum(\"ijk->ik\", y)\n",
    "        print(x3.shape, y3.shape)\n",
    "        return torch.einsum(\"ik,jk->ijk\", x3, y3)\n",
    "\n",
    "    def forward(self, x, y):\n",
    "        x1 = self.x_first(x)\n",
    "        y1 = self.y_first(y)\n",
    "        x2 = self.premerge_parallels(x1)\n",
    "        y2 = self.premerge_parallels(y1)\n",
    "        x2 = x2.reshape((x2.shape[0], self.R, int(x2.shape[1]/self.R)))\n",
    "        y2 = y2.reshape((y2.shape[0], self.R, int(y2.shape[1]/self.R)))\n",
    "        print(x2.shape, y2.shape)\n",
    "        merged = self.merge(x2,y2)\n",
    "        print(merged.shape)\n",
    "        res = self.postmerge(merged)\n",
    "        print(res.shape)\n",
    "        return res\n",
    "    "
   ]
  },
  {
   "cell_type": "code",
   "execution_count": 104,
   "metadata": {},
   "outputs": [
    {
     "name": "stdout",
     "output_type": "stream",
     "text": [
      "R: 2, Hidden Layers: 16\n",
      "torch.Size([2, 2, 16]) torch.Size([3, 2, 16])\n",
      "torch.Size([2, 16]) torch.Size([3, 16])\n",
      "torch.Size([2, 3, 16])\n",
      "torch.Size([2, 3, 3])\n"
     ]
    }
   ],
   "source": [
    "net = coordx_net(2)\n",
    "x = torch.ones((2,1)) * 1\n",
    "y = torch.ones((3,1)) * 2\n",
    "res = net(x,y)"
   ]
  },
  {
   "cell_type": "code",
   "execution_count": 105,
   "metadata": {},
   "outputs": [
    {
     "data": {
      "text/plain": [
       "tensor([[[0.4504, 0.4924, 0.5276],\n",
       "         [0.4504, 0.4924, 0.5276],\n",
       "         [0.4504, 0.4924, 0.5276]],\n",
       "\n",
       "        [[0.4504, 0.4924, 0.5276],\n",
       "         [0.4504, 0.4924, 0.5276],\n",
       "         [0.4504, 0.4924, 0.5276]]], grad_fn=<SigmoidBackward0>)"
      ]
     },
     "execution_count": 105,
     "metadata": {},
     "output_type": "execute_result"
    }
   ],
   "source": [
    "res"
   ]
  },
  {
   "cell_type": "code",
   "execution_count": null,
   "metadata": {},
   "outputs": [],
   "source": []
  }
 ],
 "metadata": {
  "kernelspec": {
   "display_name": "eecs6322-a1",
   "language": "python",
   "name": "python3"
  },
  "language_info": {
   "codemirror_mode": {
    "name": "ipython",
    "version": 3
   },
   "file_extension": ".py",
   "mimetype": "text/x-python",
   "name": "python",
   "nbconvert_exporter": "python",
   "pygments_lexer": "ipython3",
   "version": "3.11.7"
  }
 },
 "nbformat": 4,
 "nbformat_minor": 2
}
