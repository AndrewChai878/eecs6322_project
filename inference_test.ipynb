{
 "cells": [
  {
   "cell_type": "code",
   "execution_count": 2,
   "metadata": {},
   "outputs": [],
   "source": [
    "import torchvision\n",
    "from torchvision import datasets, transforms\n",
    "import matplotlib.pyplot as plt\n",
    "import torch\n",
    "import os\n",
    "import random\n",
    "import time\n",
    "import pickle\n",
    "import datetime\n",
    "import siren\n",
    "from siren import SIREN\n",
    "from PIL import Image\n",
    "from coordx import coordx_net\n",
    "from helpers import psnr\n",
    "import matplotlib.pyplot as plt\n",
    "import numpy as np"
   ]
  },
  {
   "cell_type": "code",
   "execution_count": 21,
   "metadata": {},
   "outputs": [],
   "source": [
    "MODEL_DIR = \"models/\"\n",
    "device = 'cuda' if torch.cuda.is_available() else 'cpu'"
   ]
  },
  {
   "cell_type": "code",
   "execution_count": 22,
   "metadata": {},
   "outputs": [],
   "source": [
    "# defining the model\n",
    "layers = [256, 256, 256, 256, 256]\n",
    "in_features = 2\n",
    "out_features = 3\n",
    "initializer = 'siren'\n",
    "w0 = 1.0\n",
    "w0_initial = 30.0\n",
    "c = 6\n",
    "siren_model = SIREN(\n",
    "    layers, in_features, out_features, w0, w0_initial,\n",
    "    initializer=initializer, c=c).to(device)"
   ]
  },
  {
   "cell_type": "code",
   "execution_count": 23,
   "metadata": {},
   "outputs": [],
   "source": [
    "coordx_model = coordx_net(n_branches=2, out_channels=3, hidden_size=256, R=1, R_strat=1).to(device)"
   ]
  },
  {
   "cell_type": "code",
   "execution_count": 25,
   "metadata": {},
   "outputs": [
    {
     "name": "stdout",
     "output_type": "stream",
     "text": [
      "torch.Size([256, 256, 2])\n",
      "torch.Size([256, 1]) torch.Size([256, 1])\n",
      "torch.Size([512, 512, 2])\n",
      "torch.Size([512, 1]) torch.Size([512, 1])\n",
      "torch.Size([1024, 1024, 2])\n",
      "torch.Size([1024, 1]) torch.Size([1024, 1])\n",
      "torch.Size([2048, 2048, 2])\n",
      "torch.Size([2048, 1]) torch.Size([2048, 1])\n"
     ]
    }
   ],
   "source": [
    "# Put things together to sim inference with different models (shouldn't matter if trained)\n",
    "siren_model.eval()\n",
    "coordx_model.eval()\n",
    "img_sizes = [256, 512, 1024, 2048]\n",
    "siren_times_gpu = []\n",
    "coordx_times_gpu = []\n",
    "for size in img_sizes:\n",
    "    x = torch.linspace(1, size, size).reshape(-1,1).to(device)\n",
    "    y = torch.linspace(1, size, size).reshape(-1,1).to(device)\n",
    "    x_grid, y_grid = torch.meshgrid(torch.linspace(-1.0,1.0, size, device=device),torch.linspace(-1.0,1.0,size, device=device))\n",
    "    x_in = torch.cat((torch.unsqueeze(x_grid, dim=2), torch.unsqueeze(y_grid, dim=2)), dim = 2,).to(device)\n",
    "    print(x_in.shape)\n",
    "    print(x.shape, y.shape)\n",
    "    \n",
    "    coordt = []\n",
    "    for i in range(12):\n",
    "        inf_time = time.perf_counter()\n",
    "        with torch.no_grad():\n",
    "            out = coordx_model([x,y])\n",
    "        inf_time = time.perf_counter() - inf_time\n",
    "        coordt.append(inf_time)\n",
    "    coordx_times_gpu.append(sum(coordt)/12)\n",
    "\n",
    "    sirent = []\n",
    "    for i in range(12):\n",
    "        inf_time = time.perf_counter()\n",
    "        with torch.no_grad():\n",
    "            out = siren_model(x_in)\n",
    "        inf_time = time.perf_counter() - inf_time\n",
    "        sirent.append(inf_time)\n",
    "    siren_times_gpu.append(sum(sirent)/12)\n",
    "    "
   ]
  },
  {
   "cell_type": "code",
   "execution_count": 41,
   "metadata": {},
   "outputs": [
    {
     "name": "stdout",
     "output_type": "stream",
     "text": [
      "[0.00037882499994642177, 0.00041410833334036096, 0.0004359749996183382, 0.0006222083332734959] [0.000763450000249577, 0.0005891333335057425, 0.0006507083336752354, 0.0006932749997758947]\n"
     ]
    }
   ],
   "source": [
    "print(siren_times, coordx_times)"
   ]
  },
  {
   "cell_type": "code",
   "execution_count": 34,
   "metadata": {},
   "outputs": [
    {
     "data": {
      "image/png": "[encoded data removed]",
      "text/plain": [
       "<Figure size 640x480 with 1 Axes>"
      ]
     },
     "metadata": {},
     "output_type": "display_data"
    }
   ],
   "source": [
    "categories = ['256 x 256', '512 x 512', '1024 x 1024', '2048 x 2048']\n",
    "scaled_siren_times = [x*1000 for x in siren_times_gpu]\n",
    "scaled_coordx_times = [x*1000 for x in coordx_times_gpu]\n",
    "\n",
    "x = np.arange(len(categories))  # the label locations\n",
    "\n",
    "fig, ax = plt.subplots()\n",
    "X_axis = np.arange(len(categories)) \n",
    "\n",
    "# Plotting the bars\n",
    "bars1 = ax.bar(X_axis -0.2, scaled_siren_times, color='blue', width=0.3, label='SIREN')\n",
    "bars2 = ax.bar(X_axis  + 0.2, scaled_coordx_times, color='darkorange', width=0.3, label='CoordX')\n",
    "\n",
    "\n",
    "\n",
    "# Adding labels\n",
    "ax.set_xlabel('Image Dims')\n",
    "ax.set_ylabel('Time: ms')\n",
    "ax.set_xticks(X_axis, categories)\n",
    "ax.set_title('Average Image Inference Time GPU')\n",
    "ax.legend()\n",
    "\n",
    "for p in bars1:\n",
    "   height = p.get_height()\n",
    "   ax.annotate('{:.2f}'.format(height),\n",
    "      xy=(p.get_x() + p.get_width() / 2, height),\n",
    "      xytext=(0, 3), # 3 points vertical offset\n",
    "      textcoords=\"offset points\",\n",
    "      ha='center', va='bottom')\n",
    "   \n",
    "\n",
    "for p in bars2:\n",
    "   height = p.get_height()\n",
    "   ax.annotate('{:.2f}'.format(height),\n",
    "      xy=(p.get_x() + p.get_width() / 2, height),\n",
    "      xytext=(0, 3), # 3 points vertical offset\n",
    "      textcoords=\"offset points\",\n",
    "      ha='center', va='bottom')\n",
    "\n",
    "# Showing plot\n",
    "plt.show()"
   ]
  },
  {
   "cell_type": "code",
   "execution_count": 20,
   "metadata": {},
   "outputs": [
    {
     "name": "stdout",
     "output_type": "stream",
     "text": [
      "[0.0005977000000711996, 0.000513300001330208, 0.0005906999995204387, 0.0007006000014371239] [0.0017499000005045673, 0.0011199000000488013, 0.0012753999999404186, 0.0012055000006512273]\n"
     ]
    }
   ],
   "source": [
    "print(siren_times, coordx_times)"
   ]
  },
  {
   "cell_type": "code",
   "execution_count": null,
   "metadata": {},
   "outputs": [],
   "source": [
    "# inference numbers are hilariously low for some reason, did they test on cpu?"
   ]
  },
  {
   "cell_type": "code",
   "execution_count": 4,
   "metadata": {},
   "outputs": [],
   "source": [
    "# defining the model\n",
    "layers = [256, 256, 256, 256, 256]\n",
    "in_features = 2\n",
    "out_features = 3\n",
    "initializer = 'siren'\n",
    "w0 = 1.0\n",
    "w0_initial = 30.0\n",
    "c = 6\n",
    "siren_model = SIREN(\n",
    "    layers, in_features, out_features, w0, w0_initial,\n",
    "    initializer=initializer, c=c)\n",
    "\n",
    "coordx_model = coordx_net(n_branches=2, out_channels=3, hidden_size=256, R=1, R_strat=1)"
   ]
  },
  {
   "cell_type": "code",
   "execution_count": 5,
   "metadata": {},
   "outputs": [
    {
     "name": "stderr",
     "output_type": "stream",
     "text": [
      "c:\\Users\\Andrew\\anaconda3\\envs\\eecs6322-a1\\Lib\\site-packages\\torch\\functional.py:507: UserWarning: torch.meshgrid: in an upcoming release, it will be required to pass the indexing argument. (Triggered internally at ..\\aten\\src\\ATen\\native\\TensorShape.cpp:3550.)\n",
      "  return _VF.meshgrid(tensors, **kwargs)  # type: ignore[attr-defined]\n"
     ]
    },
    {
     "name": "stdout",
     "output_type": "stream",
     "text": [
      "torch.Size([256, 256, 2])\n",
      "torch.Size([256, 1]) torch.Size([256, 1])\n",
      "torch.Size([512, 512, 2])\n",
      "torch.Size([512, 1]) torch.Size([512, 1])\n",
      "torch.Size([1024, 1024, 2])\n",
      "torch.Size([1024, 1]) torch.Size([1024, 1])\n",
      "torch.Size([2048, 2048, 2])\n",
      "torch.Size([2048, 1]) torch.Size([2048, 1])\n"
     ]
    }
   ],
   "source": [
    "# Put things together to sim inference with different models (shouldn't matter if trained)\n",
    "siren_model.eval()\n",
    "coordx_model.eval()\n",
    "img_sizes = [256, 512, 1024, 2048]\n",
    "siren_times = []\n",
    "coordx_times = []\n",
    "for size in img_sizes:\n",
    "    x = torch.linspace(1, size, size).reshape(-1,1)\n",
    "    y = torch.linspace(1, size, size).reshape(-1,1)\n",
    "    x_grid, y_grid = torch.meshgrid(torch.linspace(-1.0,1.0, size),torch.linspace(-1.0,1.0,size))\n",
    "    x_in = torch.cat((torch.unsqueeze(x_grid, dim=2), torch.unsqueeze(y_grid, dim=2)), dim = 2,)\n",
    "    print(x_in.shape)\n",
    "    print(x.shape, y.shape)\n",
    "    \n",
    "    coordt = []\n",
    "    for i in range(12):\n",
    "        inf_time = time.perf_counter()\n",
    "        with torch.no_grad():\n",
    "            out = coordx_model([x,y])\n",
    "        inf_time = time.perf_counter() - inf_time\n",
    "        coordt.append(inf_time)\n",
    "    coordx_times.append(sum(coordt)/12)\n",
    "\n",
    "    sirent = []\n",
    "    for i in range(12):\n",
    "        inf_time = time.perf_counter()\n",
    "        with torch.no_grad():\n",
    "            out = siren_model(x_in)\n",
    "        inf_time = time.perf_counter() - inf_time\n",
    "        sirent.append(inf_time)\n",
    "    siren_times.append(sum(sirent)/12)\n",
    "    "
   ]
  },
  {
   "cell_type": "code",
   "execution_count": 6,
   "metadata": {},
   "outputs": [
    {
     "name": "stdout",
     "output_type": "stream",
     "text": [
      "[0.31174010000040653, 1.3315621416666847, 5.241790041666415, 20.218268533333383] [0.08318421666687452, 0.30994171666664744, 1.3255588749993876, 5.100121883333486]\n"
     ]
    }
   ],
   "source": [
    "print(siren_times, coordx_times)"
   ]
  },
  {
   "cell_type": "code",
   "execution_count": 36,
   "metadata": {},
   "outputs": [
    {
     "data": {
      "image/png": "[encoded data removed]",
      "text/plain": [
       "<Figure size 640x480 with 1 Axes>"
      ]
     },
     "metadata": {},
     "output_type": "display_data"
    }
   ],
   "source": [
    "categories = ['256 x 256', '512 x 512', '1024 x 1024', '2048 x 2048']\n",
    "\n",
    "x = np.arange(len(categories))  # the label locations\n",
    "\n",
    "fig, ax = plt.subplots()\n",
    "# Plotting the bars\n",
    "bars1 = ax.bar(x - 0.2, siren_times, color='blue', width=0.3, label='SIREN')\n",
    "bars2 = ax.bar(x + 0.4, coordx_times, color='darkorange', width=0.3, label='CoordX')\n",
    "\n",
    "# Adding labels\n",
    "ax.set_xlabel('Image Dims')\n",
    "ax.set_ylabel('Time: s')\n",
    "ax.set_xticks(x, categories)\n",
    "ax.set_title('Average Image Inference Time CPU')\n",
    "ax.legend()\n",
    "\n",
    "for p in bars1:\n",
    "   height = p.get_height()\n",
    "   ax.annotate('{:.2f}'.format(height),\n",
    "      xy=(p.get_x() + p.get_width() / 2, height),\n",
    "      xytext=(0, 3), # 3 points vertical offset\n",
    "      textcoords=\"offset points\",\n",
    "      ha='center', va='bottom')\n",
    "   \n",
    "\n",
    "for p in bars2:\n",
    "   height = p.get_height()\n",
    "   ax.annotate('{:.2f}'.format(height),\n",
    "      xy=(p.get_x() + p.get_width() / 2, height),\n",
    "      xytext=(0, 3), # 3 points vertical offset\n",
    "      textcoords=\"offset points\",\n",
    "      ha='center', va='bottom')\n",
    "\n",
    "# Showing plot\n",
    "plt.show()"
   ]
  }
 ],
 "metadata": {
  "kernelspec": {
   "display_name": "eecs6322-a1",
   "language": "python",
   "name": "python3"
  },
  "language_info": {
   "codemirror_mode": {
    "name": "ipython",
    "version": 3
   },
   "file_extension": ".py",
   "mimetype": "text/x-python",
   "name": "python",
   "nbconvert_exporter": "python",
   "pygments_lexer": "ipython3",
   "version": "3.11.7"
  }
 },
 "nbformat": 4,
 "nbformat_minor": 2
}
